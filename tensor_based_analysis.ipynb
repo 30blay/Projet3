{
 "cells": [
  {
   "cell_type": "code",
   "execution_count": 139,
   "metadata": {},
   "outputs": [
    {
     "name": "stdout",
     "output_type": "stream",
     "text": [
      "Using matplotlib backend: Qt5Agg\n"
     ]
    },
    {
     "data": {
      "text/plain": [
       "<module 'data' from 'C:\\\\Users\\\\sebastien\\\\google drive\\\\PanAcces\\\\projects\\\\projet3\\\\data.py'>"
      ]
     },
     "execution_count": 139,
     "metadata": {},
     "output_type": "execute_result"
    }
   ],
   "source": [
    "import csv\n",
    "import matplotlib.pyplot as mp\n",
    "import numpy as np\n",
    "import random as rand\n",
    "import nbimporter\n",
    "from importlib import reload\n",
    "import tensorflow as tf\n",
    "from tensorflow import keras\n",
    "from tensorflow.keras import layers\n",
    "from tensorflow.keras import optimizers\n",
    "import data\n",
    "reload(data)"
   ]
  },
  {
   "cell_type": "code",
   "execution_count": 57,
   "metadata": {},
   "outputs": [
    {
     "name": "stdout",
     "output_type": "stream",
     "text": [
      "removing subject  76\n"
     ]
    }
   ],
   "source": [
    "full_data=data.data_set(\"handwriting.csv\",\"fatigue.csv\")\n",
    "full_data.divide(\"training_set.csv\",\"validation_set.csv\")\n",
    "training_set=data.data_set(\"training_set.csv\",\"fatigue.csv\")\n",
    "validation_set=data.data_set(\"validation_set.csv\",\"fatigue.csv\")"
   ]
  },
  {
   "cell_type": "code",
   "execution_count": 153,
   "metadata": {},
   "outputs": [
    {
     "data": {
      "text/plain": [
       "(6,)"
      ]
     },
     "execution_count": 153,
     "metadata": {},
     "output_type": "execute_result"
    }
   ],
   "source": [
    "t_labels,t_data=training_set.get_set(\"pain\")\n",
    "t_data[0].shape"
   ]
  },
  {
   "cell_type": "code",
   "execution_count": 154,
   "metadata": {},
   "outputs": [],
   "source": [
    "model = keras.Sequential([\n",
    "    keras.layers.Dense(6,activation=tf.nn.tanh),\n",
    "    keras.layers.Dense(12, activation=tf.nn.tanh),\n",
    "    keras.layers.Dense(24, activation=tf.nn.tanh),\n",
    "    keras.layers.Dense(6, activation=tf.nn.softmax)\n",
    "])\n",
    "model.compile(optimizer=keras.optimizers.Nadam(), \n",
    "              loss='sparse_categorical_crossentropy',\n",
    "              metrics=['accuracy'])"
   ]
  },
  {
   "cell_type": "code",
   "execution_count": 156,
   "metadata": {},
   "outputs": [
    {
     "name": "stdout",
     "output_type": "stream",
     "text": [
      "Epoch 1/10\n",
      "1604/1604 [==============================] - 12s 7ms/sample - loss: 1.0004 - acc: 0.7363\n",
      "Epoch 2/10\n",
      "1604/1604 [==============================] - 0s 192us/sample - loss: 0.7620 - acc: 0.8155\n",
      "Epoch 3/10\n",
      "1604/1604 [==============================] - 0s 202us/sample - loss: 0.7608 - acc: 0.8155\n",
      "Epoch 4/10\n",
      "1604/1604 [==============================] - 0s 231us/sample - loss: 0.7596 - acc: 0.8155\n",
      "Epoch 5/10\n",
      "1604/1604 [==============================] - 1s 313us/sample - loss: 0.7609 - acc: 0.8155\n",
      "Epoch 6/10\n",
      "1604/1604 [==============================] - 0s 291us/sample - loss: 0.7597 - acc: 0.8155\n",
      "Epoch 7/10\n",
      "1604/1604 [==============================] - 0s 173us/sample - loss: 0.7581 - acc: 0.8155\n",
      "Epoch 8/10\n",
      "1604/1604 [==============================] - 0s 170us/sample - loss: 0.7594 - acc: 0.8155\n",
      "Epoch 9/10\n",
      "1604/1604 [==============================] - 0s 202us/sample - loss: 0.7586 - acc: 0.8155\n",
      "Epoch 10/10\n",
      "1604/1604 [==============================] - 0s 223us/sample - loss: 0.7597 - acc: 0.8155\n"
     ]
    },
    {
     "data": {
      "text/plain": [
       "<tensorflow.python.keras.callbacks.History at 0xeb493a0b00>"
      ]
     },
     "execution_count": 156,
     "metadata": {},
     "output_type": "execute_result"
    }
   ],
   "source": [
    "model.fit(t_data, t_labels, epochs=10)"
   ]
  },
  {
   "cell_type": "code",
   "execution_count": 138,
   "metadata": {},
   "outputs": [
    {
     "name": "stdout",
     "output_type": "stream",
     "text": [
      "407/407 [==============================] - 1s 2ms/sample - loss: 108.5927 - mean_absolute_error: 9.9697 - mean_squared_error: 108.5927\n"
     ]
    },
    {
     "ename": "ValueError",
     "evalue": "too many values to unpack (expected 2)",
     "output_type": "error",
     "traceback": [
      "\u001b[1;31m---------------------------------------------------------------------------\u001b[0m",
      "\u001b[1;31mValueError\u001b[0m                                Traceback (most recent call last)",
      "\u001b[1;32m<ipython-input-138-967a33a4eb74>\u001b[0m in \u001b[0;36m<module>\u001b[1;34m\u001b[0m\n\u001b[0;32m      1\u001b[0m \u001b[0mv_labels\u001b[0m\u001b[1;33m,\u001b[0m\u001b[0mv_data\u001b[0m\u001b[1;33m=\u001b[0m\u001b[0mvalidation_set\u001b[0m\u001b[1;33m.\u001b[0m\u001b[0mget_set\u001b[0m\u001b[1;33m(\u001b[0m\u001b[1;34m\"men\"\u001b[0m\u001b[1;33m)\u001b[0m\u001b[1;33m\u001b[0m\u001b[1;33m\u001b[0m\u001b[0m\n\u001b[1;32m----> 2\u001b[1;33m \u001b[0mtest_loss\u001b[0m\u001b[1;33m,\u001b[0m \u001b[0mtest_acc\u001b[0m \u001b[1;33m=\u001b[0m \u001b[0mmodel\u001b[0m\u001b[1;33m.\u001b[0m\u001b[0mevaluate\u001b[0m\u001b[1;33m(\u001b[0m\u001b[0mv_data\u001b[0m\u001b[1;33m,\u001b[0m \u001b[0mv_labels\u001b[0m\u001b[1;33m)\u001b[0m\u001b[1;33m\u001b[0m\u001b[1;33m\u001b[0m\u001b[0m\n\u001b[0m",
      "\u001b[1;31mValueError\u001b[0m: too many values to unpack (expected 2)"
     ]
    }
   ],
   "source": [
    "v_labels,v_data=validation_set.get_set(\"pain\")\n",
    "test_loss, test_acc = model.evaluate(v_data, v_labels)"
   ]
  },
  {
   "cell_type": "code",
   "execution_count": 121,
   "metadata": {},
   "outputs": [
    {
     "data": {
      "text/plain": [
       "2.2863519718957472"
      ]
     },
     "execution_count": 121,
     "metadata": {},
     "output_type": "execute_result"
    }
   ],
   "source": [
    "test_loss"
   ]
  },
  {
   "cell_type": "code",
   "execution_count": 122,
   "metadata": {},
   "outputs": [
    {
     "data": {
      "text/plain": [
       "0.17199017"
      ]
     },
     "execution_count": 122,
     "metadata": {},
     "output_type": "execute_result"
    }
   ],
   "source": [
    "test_acc"
   ]
  },
  {
   "cell_type": "code",
   "execution_count": 123,
   "metadata": {},
   "outputs": [
    {
     "name": "stdout",
     "output_type": "stream",
     "text": [
      "[1.7827898e-06 4.4355470e-06 3.7438492e-06 3.2718742e-06 1.5970681e-02\n",
      " 7.1125948e-03 2.2841388e-02 1.1632961e-01 9.5333382e-02 1.4921412e-01\n",
      " 1.6127416e-01 1.5657990e-01 7.9317853e-02 4.4558141e-02 3.5437558e-02\n",
      " 1.5249287e-06 8.0839410e-02 3.5171047e-02 2.3822331e-06 3.0127114e-06]\n",
      "0.16127416\n"
     ]
    },
    {
     "data": {
      "text/plain": [
       "1.7827898e-06"
      ]
     },
     "execution_count": 123,
     "metadata": {},
     "output_type": "execute_result"
    }
   ],
   "source": [
    "predictions = model.predict(v_data)\n",
    "predictions.shape\n",
    "print(predictions[22])\n",
    "print(max(predictions[22]))\n",
    "predictions[22][0]"
   ]
  },
  {
   "cell_type": "code",
   "execution_count": 124,
   "metadata": {},
   "outputs": [
    {
     "name": "stdout",
     "output_type": "stream",
     "text": [
      "[10 10 10 10  9  9  9  9  9  9  9  9  9  9  9  9  9  9  9  9  9 12 12 12\n",
      " 12 16 16 16 16 16 16  8  8  8  8  7  7  7  6  6  6  6  6  7  7  7  7  7\n",
      " 12 12 12 12 12  9  9  9  9  9  9  9  9  9  9  8  8  8  8 12 12 12 12 12\n",
      " 12  9  9  9  9  9  9  5  5  5  5  5  5  5 16 16 16 16 16 16 16  9  9  9\n",
      "  9  9  9  9  9  9 13 13 13 13 13  7  7  7  7  7  7  9  9  9  9  9  9 10\n",
      " 10  7  7  7  7  7  7  7 16 16 16 16 12 12 12 12 12 12 12  8  8  8  8  8\n",
      "  8  8  8  8  8  8  8  8  8  8  8  8 17 17 17 17 11 11 11 11 11 11 11 11\n",
      " 11 11 11  6  6  6  6  6  6  6 11 11 11 11  4  4  4  4  4  4 14 14 14 11\n",
      " 11 11 11 11 11 11 11 11 11 11 11 11 10 10 10 10 10 10 10 10 10 10 10 10\n",
      " 10 10 10 10 10 10 14 14 14 14 14 14  4  4  4  4  4 11 11 11 11 11 11 11\n",
      "  8  8  8  8  8  7  7  7  7  7 16 16 16 16 16 16 16 10 10 10 10 10 10  7\n",
      "  7  7 13 13 13 13 13 13  9  9  9 11 11 11 11 11 11 11 12 12 12 12 12 12\n",
      " 12 10 10 10 10 10 10 10  6  6  6  6  6  6  6  6  6  4  4  4  4  4 13 13\n",
      " 13 13 13 13 13 13 13 13 12 12 12 12 12 11 11 11 11 11 11 11 11  6  6  6\n",
      "  6 13 13 13 13 10 10 10 10 10 10 10  8  8  8  8 11 11 11 11 11  8  8  8\n",
      "  8  8  8  8  8  8  8  8  8 10 10 17 17 17 17 17 17 17 17 12 12 12 12 12\n",
      " 12 12 10 10 10  8  8  8  8  8  8  8  9  9  9  9  9 12 12 12 12 12 12]\n"
     ]
    }
   ],
   "source": [
    "print(v_labels)"
   ]
  },
  {
   "cell_type": "code",
   "execution_count": null,
   "metadata": {},
   "outputs": [],
   "source": []
  }
 ],
 "metadata": {
  "kernelspec": {
   "display_name": "Python 3",
   "language": "python",
   "name": "python3"
  },
  "language_info": {
   "codemirror_mode": {
    "name": "ipython",
    "version": 3
   },
   "file_extension": ".py",
   "mimetype": "text/x-python",
   "name": "python",
   "nbconvert_exporter": "python",
   "pygments_lexer": "ipython3",
   "version": "3.7.3"
  }
 },
 "nbformat": 4,
 "nbformat_minor": 2
}
